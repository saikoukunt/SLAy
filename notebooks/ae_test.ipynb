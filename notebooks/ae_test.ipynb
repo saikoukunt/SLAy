{
 "cells": [
  {
   "cell_type": "code",
   "execution_count": 3,
   "id": "04df6b18-1fa5-4146-8766-ecb07078e5ba",
   "metadata": {},
   "outputs": [],
   "source": [
    "import numpy as np\n",
    "import burst_detector as bd\n",
    "import os\n",
    "import pandas as pd\n",
    "\n",
    "import torch\n",
    "import torch.nn as nn\n",
    "import torch.nn.functional as F\n",
    "import torchvision\n",
    "from torchvision import datasets, transforms\n",
    "from torchvision.utils import save_image\n",
    "import matplotlib.pyplot as plt\n",
    "import numpy as np\n",
    "import random\n",
    "import os\n",
    "import burst_detector as bd\n",
    "import pandas as pd\n",
    "from torch.utils.data import Dataset, DataLoader, Subset\n",
    "from torchvision.transforms import ToTensor\n",
    "from sklearn.model_selection import train_test_split\n",
    "from torch.profiler import profile, record_function, ProfilerActivity\n",
    "from sklearn.decomposition import PCA\n",
    "from sklearn.manifold import TSNE\n",
    "import scipy.spatial.distance as dist\n",
    "from sklearn.neighbors import NearestNeighbors"
   ]
  },
  {
   "cell_type": "code",
   "execution_count": 5,
   "id": "b62f4775-9c29-472e-adae-3fecff5e8907",
   "metadata": {},
   "outputs": [],
   "source": [
    "n_chan = 385\n",
    "\n",
    "ks_dir = \"../data/rec_bank0_dense_g0/KS2.5/catgt_rec_bank0_dense_g0/rec_bank0_dense_g0_imec0/imec0_ks2/\"\n",
    "\n",
    "times = np.load(os.path.join(ks_dir, \"spike_times.npy\")).flatten()\n",
    "clusters = np.load(os.path.join(ks_dir, \"spike_clusters.npy\")).flatten()\n",
    "\n",
    "counts = bd.spikes_per_cluster(clusters)\n",
    "cl_labels = pd.read_csv(os.path.join(ks_dir, \"cluster_group.tsv\"), sep=\"\\t\", index_col=False)\n",
    "times_multi = bd.find_times_multi(times, clusters, np.arange(clusters.max()+1))\n",
    "\n",
    "channel_pos = np.load(os.path.join(ks_dir, \"channel_positions.npy\"))\n",
    "channel_map = np.load(os.path.join(ks_dir, \"channel_map.npy\")).flatten()\n",
    "mean_wf = np.load(os.path.join(ks_dir, \"mean_waveforms.npy\"))\n",
    "peak_chans = np.argmax(np.max(mean_wf, 2) - np.min(mean_wf,2),1)\n",
    "\n",
    "channel_shanks = (channel_pos[:,0]/250).astype(\"int\")\n",
    "templates = np.load(os.path.join(ks_dir, \"templates.npy\"))\n",
    "\n",
    "# load raw data\n",
    "rawData = np.memmap(\"C:/Users/Harris_Lab/Projects/burst-detector/data/rec_bank0_dense_g0/KS2.5/catgt_rec_bank0_dense_g0/rec_bank0_dense_g0_imec0/rec_bank0_dense_g0_tcat.imec0.ap.bin\", dtype='int16', mode='r')\n",
    "data = np.reshape(rawData, (int(rawData.size/n_chan), n_chan))"
   ]
  },
  {
   "cell_type": "code",
   "execution_count": 6,
   "id": "39b2458f-8312-4aa3-8337-8a7b3f3280a9",
   "metadata": {},
   "outputs": [],
   "source": [
    "params = {}\n",
    "\n",
    "params[\"data_filepath\"] = \"C:/Users/Harris_Lab/Projects/burst-detector/data/rec_bank0_dense_g0/KS2.5/catgt_rec_bank0_dense_g0/rec_bank0_dense_g0_imec0/rec_bank0_dense_g0_tcat.imec0.ap.bin\"\n",
    "params[\"KS_folder\"] =  \"../data/rec_bank0_dense_g0/KS2.5/catgt_rec_bank0_dense_g0/rec_bank0_dense_g0_imec0/imec0_ks2/\"\n",
    "\n",
    "params[\"calc_means\"] = False\n",
    "params[\"fs\"] = 30000\n",
    "params[\"n_chan\"] = 385\n",
    "params[\"pre_samples\"] = 20\n",
    "params[\"post_samples\"] = 62\n",
    "params[\"max_spikes\"] = 2000\n",
    "\n",
    "params[\"skip_cross_sim\"] = False\n",
    "\n",
    "params[\"jitter\"] = False\n",
    "params[\"jitter_amt\"] = 4\n",
    "params[\"sim_thresh\"] = 0.4\n",
    "params[\"min_spikes\"] = 100\n",
    "\n",
    "params[\"n_iter\"] = 50\n",
    "params[\"shuffle_bin_width\"] = 0.1\n",
    "params[\"window_size\"] = 0.025\n",
    "params[\"xcorr_bin_width\"] = 0.001\n",
    "params[\"overlap_tol\"] = 10/30000\n",
    "params[\"max_window\"] = 0.01\n",
    "params[\"min_xcorr_rate\"] = 800\n",
    "\n",
    "params[\"xcorr_ref_p\"] = 0.001\n",
    "params[\"ref_pers\"] = [0.002]\n",
    "params[\"max_viol\"] = 0.01\n",
    "\n",
    "params[\"xcorr_coeff\"] =  0.5\n",
    "params[\"ref_pen_coeff\"] = 1\n",
    "params[\"final_thresh\"] = 0.7\n",
    "params[\"max_dist\"] = 10"
   ]
  },
  {
   "cell_type": "code",
   "execution_count": 7,
   "id": "569d7194-1365-4c61-9443-57fc50552be6",
   "metadata": {},
   "outputs": [],
   "source": [
    "ci = {\n",
    "    'times': times,\n",
    "    'times_multi': times_multi,\n",
    "    'clusters': clusters,\n",
    "    'counts': counts,\n",
    "    'labels': cl_labels,\n",
    "    'mean_wf': mean_wf\n",
    "}\n",
    "gti = {\n",
    "    'spk_fld': r\"C:\\Users\\Harris_Lab\\Projects\\burst-detector\\data\\rec_bank0_dense_g0\\KS2.5\\catgt_rec_bank0_dense_g0\\rec_bank0_dense_g0_imec0\\imec0_ks2\\automerge\\spikes\",\n",
    "    'pre_samples': 10,\n",
    "    'post_samples': 30,\n",
    "    'num_chan': 8,\n",
    "    'noise': False,\n",
    "    'for_shft': False\n",
    "}\n",
    "bd.generate_train_data(data, ci, channel_pos, gti, params)"
   ]
  },
  {
   "cell_type": "code",
   "execution_count": null,
   "id": "6f35e582-5bd9-4665-aace-16a417d61420",
   "metadata": {
    "tags": []
   },
   "outputs": [],
   "source": [
    "net, spk_data = bd.train_ae(gti['spk_fld'], counts, num_epochs=5)"
   ]
  },
  {
   "cell_type": "code",
   "execution_count": 16,
   "id": "44e66305-b7a4-4448-aa9f-742d240223b0",
   "metadata": {},
   "outputs": [],
   "source": [
    "device = torch.device('cuda' if torch.cuda.is_available() else 'cpu')\n",
    "spk_data = bd.autoencoder.SpikeDataset(os.path.join(gti['spk_fld'], \"labels.csv\"), gti['spk_fld'], ToTensor())\n",
    "net = bd.autoencoder.CN_AE().to(device)\n",
    "net.load_state_dict(torch.load('./models/bijan_vn_15d_balanced.pt'))\n",
    "net.eval();"
   ]
  },
  {
   "cell_type": "code",
   "execution_count": 17,
   "id": "760bb864-30c9-4cd4-8f67-9d5a856535c5",
   "metadata": {},
   "outputs": [],
   "source": [
    "chans = {}\n",
    "\n",
    "for i in range(mean_wf.shape[0]):\n",
    "    if i in counts:\n",
    "        chs, peak = bd.utils.find_best_channels(mean_wf[i], channel_pos, 8)\n",
    "        dists = bd.utils.get_dists(channel_pos, peak, chs)\n",
    "        chans[i] = chs[np.argsort(dists)].tolist()"
   ]
  },
  {
   "cell_type": "code",
   "execution_count": 18,
   "id": "39c9b6d9-4a8d-4967-a0d0-1a15024e8936",
   "metadata": {},
   "outputs": [],
   "source": [
    "n_clust = clusters.max() + 1\n",
    "cl_good = np.zeros(n_clust, dtype=bool)\n",
    "unique = np.unique(clusters)\n",
    "for i in range(n_clust):\n",
    "     if (i in unique) and (counts[i] > params['min_spikes']) \\\n",
    "        and (cl_labels.loc[cl_labels['cluster_id']==i, 'group'].item() == 'good'):\n",
    "            cl_good[i] = True"
   ]
  },
  {
   "cell_type": "code",
   "execution_count": 20,
   "id": "87cf7e23-fb61-42ad-8ff6-130c1b1dea4f",
   "metadata": {},
   "outputs": [
    {
     "name": "stdout",
     "output_type": "stream",
     "text": [
      "1566\n",
      "LOSS: 25.31591516432674\n"
     ]
    }
   ],
   "source": [
    "ae_sim, spk_lat_peak, lat_mean, spk_lab = bd.stages.calc_ae_sim(mean_wf, net, peak_chans, spk_data, chans, cl_good)"
   ]
  },
  {
   "cell_type": "code",
   "execution_count": 21,
   "id": "0b9a521a-5aa7-4e68-8013-beb6dc18fdc2",
   "metadata": {},
   "outputs": [
    {
     "data": {
      "image/png": "[encoded data removed]",
      "text/plain": [
       "<Figure size 640x480 with 1 Axes>"
      ]
     },
     "metadata": {},
     "output_type": "display_data"
    }
   ],
   "source": [
    "plt.hist(ae_sim.flatten()[ae_sim.flatten() > .1], bins=50);"
   ]
  },
  {
   "cell_type": "code",
   "execution_count": null,
   "id": "a1a722e6-aa18-4135-8871-060ab60a9e21",
   "metadata": {},
   "outputs": [],
   "source": []
  }
 ],
 "metadata": {
  "kernelspec": {
   "display_name": "Python 3 (ipykernel)",
   "language": "python",
   "name": "python3"
  },
  "language_info": {
   "codemirror_mode": {
    "name": "ipython",
    "version": 3
   },
   "file_extension": ".py",
   "mimetype": "text/x-python",
   "name": "python",
   "nbconvert_exporter": "python",
   "pygments_lexer": "ipython3",
   "version": "3.10.4"
  }
 },
 "nbformat": 4,
 "nbformat_minor": 5
}
