{
 "cells": [
  {
   "cell_type": "code",
   "execution_count": 51,
   "id": "c49c9b0a-c190-4fcd-be54-5b8458ed2400",
   "metadata": {},
   "outputs": [],
   "source": [
    "import numpy as np\n",
    "from collections import deque\n",
    "import matplotlib.pyplot as plt"
   ]
  },
  {
   "cell_type": "code",
   "execution_count": 52,
   "id": "d425fb12-c964-47f0-96e0-ed3fccf14c4c",
   "metadata": {},
   "outputs": [],
   "source": [
    "fs = 30000\n",
    "\n",
    "times = np.load('../results/s1/spike_times.npy')/fs\n",
    "clusters = np.load('../results/s1/spike_clusters.npy')\n",
    "\n",
    "n_clusters = np.unique(clusters).size\n",
    "n = times.shape[0]"
   ]
  },
  {
   "cell_type": "code",
   "execution_count": 53,
   "id": "09d7f0e3-fe5a-4711-b2b6-8b78fb380c74",
   "metadata": {},
   "outputs": [
    {
     "data": {
      "text/plain": [
       "(1620463,)"
      ]
     },
     "execution_count": 53,
     "metadata": {},
     "output_type": "execute_result"
    }
   ],
   "source": [
    "times.shape"
   ]
  },
  {
   "cell_type": "code",
   "execution_count": 54,
   "id": "1bb41a97-478a-4a2b-a561-44ea5767ebcb",
   "metadata": {},
   "outputs": [],
   "source": [
    "tmplt_len = 61/fs\n",
    "window = deque()\n",
    "window_counts = np.zeros(n_clusters)\n",
    "overlap = np.zeros((n_clusters, n_clusters))\n",
    "\n",
    "for i in np.arange(n):\n",
    "    window.append(i)\n",
    "\n",
    "    # Boot spikes outside window\n",
    "    while (times[i] - times[window[0]]) > tmplt_len:\n",
    "        old = window.popleft()\n",
    "        window_counts[clusters[old]] -= 1\n",
    "        \n",
    "    # update overlap row of new spike\n",
    "    overlap[clusters[i], :] += window_counts\n",
    "        \n",
    "    # update overlap rows for pre-existing spikes\n",
    "    overlap[:, clusters[i]] += window_counts.T\n",
    "    \n",
    "    # for j in np.arange(n_clusters):\n",
    "    #     overlap[j, clusters[i]] += window_counts[j]\n",
    "    \n",
    "    # update window counts\n",
    "    window_counts[clusters[i]] += 1    "
   ]
  },
  {
   "cell_type": "code",
   "execution_count": 55,
   "id": "a710ce39-dbdc-45dd-92e3-468ce62e9190",
   "metadata": {},
   "outputs": [],
   "source": [
    "# count number of spikes for each cluster\n",
    "clust_counts = np.zeros(n_clusters)\n",
    "\n",
    "for i in np.arange(n):\n",
    "    clust_counts[clusters[i]] += 1\n",
    "    \n",
    "    \n",
    "overlap_norm = overlap.copy()\n",
    "# normalize overlap by spikes in cluster\n",
    "for i in np.arange(n_clusters):\n",
    "    overlap_norm[i, :] /= clust_counts[i]"
   ]
  },
  {
   "cell_type": "code",
   "execution_count": 68,
   "id": "5dd5574c-c04a-4326-a3bd-5d0ab706475b",
   "metadata": {},
   "outputs": [],
   "source": [
    "def find_times(times, clusters, cluster):\n",
    "    ret = []\n",
    "    for i in range(times.shape[0]):\n",
    "        if clusters[i] == cluster:\n",
    "            ret.append(times[i])\n",
    "    return ret"
   ]
  },
  {
   "cell_type": "code",
   "execution_count": 76,
   "id": "c108eb36-1473-4d47-8908-85e45e3fb3f8",
   "metadata": {},
   "outputs": [
    {
     "data": {
      "text/plain": [
       "(array([81., 30., 53.,  8.,  7., 17.,  1.,  2.,  7.,  1.,  1.,  5.,  6.,\n",
       "         9., 16.,  3.,  0.,  0.,  0.,  1.]),\n",
       " array([0.20022353, 0.25687902, 0.31353451, 0.37019   , 0.42684549,\n",
       "        0.48350098, 0.54015647, 0.59681196, 0.65346745, 0.71012294,\n",
       "        0.76677843, 0.82343392, 0.88008941, 0.9367449 , 0.99340039,\n",
       "        1.05005588, 1.10671137, 1.16336686, 1.22002235, 1.27667784,\n",
       "        1.33333333]),\n",
       " <BarContainer object of 20 artists>)"
      ]
     },
     "execution_count": 76,
     "metadata": {},
     "output_type": "execute_result"
    },
    {
     "data": {
      "image/png": "[encoded data removed]",
      "text/plain": [
       "<Figure size 640x480 with 1 Axes>"
      ]
     },
     "metadata": {},
     "output_type": "display_data"
    }
   ],
   "source": [
    "plt.hist(overlap_norm.flatten()[overlap_norm.flatten() > 0.2], bins=20)"
   ]
  }
 ],
 "metadata": {
  "kernelspec": {
   "display_name": "Python 3 (ipykernel)",
   "language": "python",
   "name": "python3"
  },
  "language_info": {
   "codemirror_mode": {
    "name": "ipython",
    "version": 3
   },
   "file_extension": ".py",
   "mimetype": "text/x-python",
   "name": "python",
   "nbconvert_exporter": "python",
   "pygments_lexer": "ipython3",
   "version": "3.10.4"
  }
 },
 "nbformat": 4,
 "nbformat_minor": 5
}
