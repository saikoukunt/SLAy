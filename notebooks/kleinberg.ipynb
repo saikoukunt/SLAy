{
 "cells": [
  {
   "cell_type": "code",
   "execution_count": 82,
   "id": "79b2d80b-3b4c-4056-b842-2720cba5b4ed",
   "metadata": {},
   "outputs": [],
   "source": [
    "find_bursts <- function (src, target, s, gamma) {\n",
    "    data <- read.delim(src, header=FALSE, sep = \"\\n\");\n",
    "    data <- as.vector(t(as.matrix(data['V1'])));\n",
    "    \n",
    "    bursts <- bursts::kleinberg(data, s=s, gamma=gamma);\n",
    "\n",
    "    write.csv(bursts, target);\n",
    "}"
   ]
  },
  {
   "cell_type": "code",
   "execution_count": 84,
   "id": "621809dd-2c0d-4192-a738-d5bff5cace84",
   "metadata": {},
   "outputs": [],
   "source": [
    "find_bursts(\"st0.txt\", \"bursts_s0_cl0.csv\", 5, .5)"
   ]
  },
  {
   "cell_type": "code",
   "execution_count": 85,
   "id": "baf8408c-34ef-42cb-9bc9-41c8254f5f56",
   "metadata": {},
   "outputs": [],
   "source": [
    "find_bursts(\"st1.txt\", \"bursts_s0_cl1.csv\", 5, .5)"
   ]
  },
  {
   "cell_type": "code",
   "execution_count": 87,
   "id": "26510f1e-9fc9-43c1-880c-4fecd4505044",
   "metadata": {},
   "outputs": [],
   "source": [
    "find_bursts(\"st_sim1.txt\", \"bursts_sim1.csv\", 5, .5)"
   ]
  },
  {
   "cell_type": "code",
   "execution_count": 88,
   "id": "077f172e-144e-4107-bb17-fc375ae2e304",
   "metadata": {},
   "outputs": [],
   "source": [
    "find_bursts(\"st_sim2.txt\", \"bursts_sim2.csv\", 5, .5)"
   ]
  },
  {
   "cell_type": "code",
   "execution_count": 89,
   "id": "0e1cb69d-6e33-4c35-a134-33945b0acfbc",
   "metadata": {},
   "outputs": [],
   "source": [
    "find_bursts(\"st_sim3.txt\", \"bursts_sim3.csv\", 5, .5)"
   ]
  },
  {
   "cell_type": "code",
   "execution_count": null,
   "id": "785a8cca-0c9b-4962-9624-febefa21878a",
   "metadata": {},
   "outputs": [],
   "source": []
  }
 ],
 "metadata": {
  "kernelspec": {
   "display_name": "R",
   "language": "R",
   "name": "ir"
  },
  "language_info": {
   "codemirror_mode": "r",
   "file_extension": ".r",
   "mimetype": "text/x-r-source",
   "name": "R",
   "pygments_lexer": "r",
   "version": "3.6.1"
  }
 },
 "nbformat": 4,
 "nbformat_minor": 5
}
