{
 "cells": [
  {
   "cell_type": "code",
   "execution_count": 1,
   "id": "e488117f-c88d-4485-92fa-033291854baf",
   "metadata": {},
   "outputs": [],
   "source": [
    "import numpy as np\n",
    "import matplotlib.pyplot as plt\n",
    "import scipy"
   ]
  },
  {
   "cell_type": "code",
   "execution_count": 27,
   "id": "67aabb6b-c37f-48cc-9cd7-742a350e91e1",
   "metadata": {},
   "outputs": [],
   "source": [
    "# load raw data\n",
    "n_chan = 128\n",
    "rawData = np.memmap(\"../data/midbrain_cullen/NPX_001_Session_2.bin\", dtype='int16', mode='r')\n",
    "data = np.reshape(rawData, (int(rawData.size/n_chan), n_chan))\n",
    "\n",
    "# convert to uV\n",
    "data = (data) * .195\n",
    "\n",
    "# butterworth bandpass, 12th order froom 300 - 10000 Hz\n",
    "sos = scipy.signal.butter(12, [300, 10000], btype='bandpass', fs=30000, output='sos')\n",
    "data = scipy.signal.sosfilt(sos, data, axis=0)\n",
    "\n",
    "# global common average referencing\n",
    "avg = np.mean(data, axis=1)\n",
    "\n",
    "for i in range(data.shape[1]):\n",
    "    data[:, i] -= avg"
   ]
  },
  {
   "cell_type": "code",
   "execution_count": 28,
   "id": "f178ee7a-1452-4d47-9276-77c38948f282",
   "metadata": {},
   "outputs": [],
   "source": [
    "data = np.round(data/.195)"
   ]
  },
  {
   "cell_type": "code",
   "execution_count": 31,
   "id": "e1a63faf-cd89-4cdf-b422-ad5ccf2efcc5",
   "metadata": {},
   "outputs": [],
   "source": [
    "data.astype('int16').tofile(\"NPX_001_Session_2_preprocessed.bin\")"
   ]
  },
  {
   "cell_type": "code",
   "execution_count": null,
   "id": "7cf5ec56-b0cd-4a61-aa18-5158d49df45b",
   "metadata": {},
   "outputs": [],
   "source": []
  }
 ],
 "metadata": {
  "kernelspec": {
   "display_name": "Python 3 (ipykernel)",
   "language": "python",
   "name": "python3"
  },
  "language_info": {
   "codemirror_mode": {
    "name": "ipython",
    "version": 3
   },
   "file_extension": ".py",
   "mimetype": "text/x-python",
   "name": "python",
   "nbconvert_exporter": "python",
   "pygments_lexer": "ipython3",
   "version": "3.10.4"
  }
 },
 "nbformat": 4,
 "nbformat_minor": 5
}
