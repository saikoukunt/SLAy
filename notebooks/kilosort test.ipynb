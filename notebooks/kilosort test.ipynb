{
 "cells": [
  {
   "cell_type": "code",
   "execution_count": 1,
   "id": "53f5a3ad-99c7-457d-9ec9-4fc8f79d36f8",
   "metadata": {},
   "outputs": [
    {
     "name": "stderr",
     "output_type": "stream",
     "text": [
      "\u001b[0m15:46:24.915 [I] utils:279            Loaded data with 385 channels, 58629759 samples\u001b[0m\n",
      "\u001b[0m15:46:24.920 [I] utils:567            Starting step whitening_matrix.\u001b[0m\n"
     ]
    },
    {
     "data": {
      "application/json": {
       "ascii": false,
       "bar_format": null,
       "colour": null,
       "elapsed": 0.01895427703857422,
       "initial": 0,
       "n": 0,
       "ncols": null,
       "nrows": 30,
       "postfix": null,
       "prefix": "Computing the whitening matrix",
       "rate": null,
       "total": 36,
       "unit": "it",
       "unit_divisor": 1000,
       "unit_scale": false
      },
      "application/vnd.jupyter.widget-view+json": {
       "model_id": "7ba28cd05493433a8951c26592e1dc94",
       "version_major": 2,
       "version_minor": 0
      },
      "text/plain": [
       "Computing the whitening matrix:   0%|          | 0/36 [00:00<?, ?it/s]"
      ]
     },
     "metadata": {},
     "output_type": "display_data"
    },
    {
     "name": "stderr",
     "output_type": "stream",
     "text": [
      "\u001b[0m15:49:53.056 [I] preprocess:243       Computed the whitening matrix.\u001b[0m\n",
      "\u001b[0m15:49:53.058 [I] utils:578            Step `whitening_matrix` took 208.14s.\u001b[0m\n",
      "\u001b[0m15:49:53.064 [I] utils:567            Starting step preprocess.\u001b[0m\n",
      "\u001b[0m15:49:53.065 [I] preprocess:402       Loading raw data and applying filters.\u001b[0m\n"
     ]
    },
    {
     "data": {
      "application/json": {
       "ascii": false,
       "bar_format": null,
       "colour": null,
       "elapsed": 0.013826370239257812,
       "initial": 0,
       "n": 0,
       "ncols": null,
       "nrows": 30,
       "postfix": null,
       "prefix": "Preprocessing",
       "rate": null,
       "total": 894,
       "unit": "it",
       "unit_divisor": 1000,
       "unit_scale": false
      },
      "application/vnd.jupyter.widget-view+json": {
       "model_id": "9435b354c3db4007b2207524e1914017",
       "version_major": 2,
       "version_minor": 0
      },
      "text/plain": [
       "Preprocessing:   0%|          | 0/894 [00:00<?, ?it/s]"
      ]
     },
     "metadata": {},
     "output_type": "display_data"
    },
    {
     "name": "stderr",
     "output_type": "stream",
     "text": [
      "\u001b[0m17:13:36.004 [I] utils:578            Step `preprocess` took 5022.94s.\u001b[0m\n",
      "\u001b[0m17:13:36.007 [I] utils:567            Starting step learn.\u001b[0m\n"
     ]
    },
    {
     "data": {
      "application/json": {
       "ascii": false,
       "bar_format": null,
       "colour": null,
       "elapsed": 0.01504063606262207,
       "initial": 0,
       "n": 0,
       "ncols": null,
       "nrows": 30,
       "postfix": null,
       "prefix": "Extracting templates",
       "rate": null,
       "total": 179,
       "unit": "it",
       "unit_divisor": 1000,
       "unit_scale": false
      },
      "application/vnd.jupyter.widget-view+json": {
       "model_id": "36923041f49d4f6ba58d162e30ed7bbe",
       "version_major": 2,
       "version_minor": 0
      },
      "text/plain": [
       "Extracting templates:   0%|          | 0/179 [00:00<?, ?it/s]"
      ]
     },
     "metadata": {},
     "output_type": "display_data"
    },
    {
     "data": {
      "application/json": {
       "ascii": false,
       "bar_format": null,
       "colour": null,
       "elapsed": 0.03225827217102051,
       "initial": 0,
       "n": 0,
       "ncols": null,
       "nrows": 30,
       "postfix": null,
       "prefix": "Optimizing templates",
       "rate": null,
       "total": 1790,
       "unit": "it",
       "unit_divisor": 1000,
       "unit_scale": false
      },
      "application/vnd.jupyter.widget-view+json": {
       "model_id": "66d54cd346f7406aa41b1d299970d4e1",
       "version_major": 2,
       "version_minor": 0
      },
      "text/plain": [
       "Optimizing templates:   0%|          | 0/1790 [00:00<?, ?it/s]"
      ]
     },
     "metadata": {},
     "output_type": "display_data"
    },
    {
     "name": "stderr",
     "output_type": "stream",
     "text": [
      "\u001b[0m17:35:01.250 [I] learn:1262           Found 3882190 spikes.\u001b[0m\n",
      "\u001b[0m17:35:01.304 [I] utils:578            Step `learn` took 1285.29s.\u001b[0m\n",
      "\u001b[0m17:35:01.485 [I] utils:567            Starting step merge.\u001b[0m\n"
     ]
    },
    {
     "data": {
      "application/json": {
       "ascii": false,
       "bar_format": null,
       "colour": null,
       "elapsed": 0.010341405868530273,
       "initial": 0,
       "n": 0,
       "ncols": null,
       "nrows": 30,
       "postfix": null,
       "prefix": "Finding merges",
       "rate": null,
       "total": 169,
       "unit": "it",
       "unit_divisor": 1000,
       "unit_scale": false
      },
      "application/vnd.jupyter.widget-view+json": {
       "model_id": "ff5cb696cb09403dab10995f32b3fcee",
       "version_major": 2,
       "version_minor": 0
      },
      "text/plain": [
       "Finding merges:   0%|          | 0/169 [00:00<?, ?it/s]"
      ]
     },
     "metadata": {},
     "output_type": "display_data"
    },
    {
     "name": "stderr",
     "output_type": "stream",
     "text": [
      "\u001b[0m17:35:12.917 [I] utils:578            Step `merge` took 11.43s.\u001b[0m\n",
      "\u001b[0m17:35:12.919 [I] utils:567            Starting step split_1.\u001b[0m\n",
      "\u001b[0m17:35:16.240 [I] postprocess:836      Found 0 splits, checked 0/169 clusters, nccg 0\u001b[0m\n",
      "\u001b[0m17:35:57.415 [I] postprocess:836      Found 34 splits, checked 100/203 clusters, nccg 19\u001b[0m\n",
      "\u001b[0m17:35:57.653 [I] postprocess:836      Found 35 splits, checked 100/204 clusters, nccg 19\u001b[0m\n",
      "\u001b[0m17:35:57.851 [I] postprocess:836      Found 36 splits, checked 100/205 clusters, nccg 19\u001b[0m\n",
      "\u001b[0m17:36:26.657 [I] postprocess:836      Found 68 splits, checked 200/237 clusters, nccg 48\u001b[0m\n",
      "\u001b[0m17:36:40.235 [I] postprocess:1052     Finished splitting. Found 87 splits, checked 256/256 clusters, nccg 66\u001b[0m\n",
      "\u001b[0m17:36:40.677 [I] utils:578            Step `split_1` took 87.76s.\u001b[0m\n",
      "\u001b[0m17:36:40.679 [I] utils:567            Starting step cutoff.\u001b[0m\n"
     ]
    },
    {
     "data": {
      "application/json": {
       "ascii": false,
       "bar_format": null,
       "colour": null,
       "elapsed": 0.03378772735595703,
       "initial": 0,
       "n": 0,
       "ncols": null,
       "nrows": 30,
       "postfix": null,
       "prefix": "Setting cutoff",
       "rate": null,
       "total": 256,
       "unit": "it",
       "unit_divisor": 1000,
       "unit_scale": false
      },
      "application/vnd.jupyter.widget-view+json": {
       "model_id": "706857a0ae3a4710b33e09166e1bff1e",
       "version_major": 2,
       "version_minor": 0
      },
      "text/plain": [
       "Setting cutoff:   0%|          | 0/256 [00:00<?, ?it/s]"
      ]
     },
     "metadata": {},
     "output_type": "display_data"
    },
    {
     "name": "stderr",
     "output_type": "stream",
     "text": [
      "\u001b[0m17:36:54.191 [I] utils:578            Step `cutoff` took 13.51s.\u001b[0m\n",
      "\u001b[0m17:36:54.194 [I] main:266             1620463 spikes after cutoff.\u001b[0m\n",
      "\u001b[0m17:36:54.195 [I] main:267             Found 98 good units.\u001b[0m\n",
      "\u001b[0m17:36:54.197 [I] main:270             Saving results to phy.\u001b[0m\n",
      "\u001b[0m17:36:54.199 [I] utils:567            Starting step output.\u001b[0m\n"
     ]
    },
    {
     "data": {
      "application/json": {
       "ascii": false,
       "bar_format": null,
       "colour": null,
       "elapsed": 0.01205301284790039,
       "initial": 0,
       "n": 0,
       "ncols": null,
       "nrows": 30,
       "postfix": null,
       "prefix": "Computing templates",
       "rate": null,
       "total": 251,
       "unit": "it",
       "unit_divisor": 1000,
       "unit_scale": false
      },
      "application/vnd.jupyter.widget-view+json": {
       "model_id": "6ebf8b7efae44479b39132434ac86485",
       "version_major": 2,
       "version_minor": 0
      },
      "text/plain": [
       "Computing templates:   0%|          | 0/251 [00:00<?, ?it/s]"
      ]
     },
     "metadata": {},
     "output_type": "display_data"
    },
    {
     "data": {
      "application/json": {
       "ascii": false,
       "bar_format": null,
       "colour": null,
       "elapsed": 0.010184049606323242,
       "initial": 0,
       "n": 0,
       "ncols": null,
       "nrows": 30,
       "postfix": null,
       "prefix": "Saving template and PC features",
       "rate": null,
       "total": 39,
       "unit": "it",
       "unit_divisor": 1000,
       "unit_scale": false
      },
      "application/vnd.jupyter.widget-view+json": {
       "model_id": "7aa3c964dab34e6ba09614f0330b5c38",
       "version_major": 2,
       "version_minor": 0
      },
      "text/plain": [
       "Saving template and PC features:   0%|          | 0/39 [00:00<?, ?it/s]"
      ]
     },
     "metadata": {},
     "output_type": "display_data"
    },
    {
     "name": "stderr",
     "output_type": "stream",
     "text": [
      "\u001b[0m17:36:57.701 [I] utils:578            Step `output` took 3.50s.\u001b[0m\n",
      "\u001b[0m17:36:58.045 [I] utils:578            Step `whitening_matrix` took 208.14s.\u001b[0m\n",
      "\u001b[0m17:36:58.046 [I] utils:578            Step `preprocess` took 5022.94s.\u001b[0m\n",
      "\u001b[0m17:36:58.047 [I] utils:578            Step `learn` took 1285.29s.\u001b[0m\n",
      "\u001b[0m17:36:58.048 [I] utils:578            Step `merge` took 11.43s.\u001b[0m\n",
      "\u001b[0m17:36:58.049 [I] utils:578            Step `split_1` took 87.76s.\u001b[0m\n",
      "\u001b[0m17:36:58.051 [I] utils:578            Step `cutoff` took 13.51s.\u001b[0m\n",
      "\u001b[0m17:36:58.053 [I] utils:578            Step `output` took 3.50s.\u001b[0m\n",
      "\u001b[0m17:36:58.054 [I] utils:582            Total time taken was 6632.57s\u001b[0m\n"
     ]
    }
   ],
   "source": [
    "from pathlib import Path\n",
    "from pykilosort import run, add_default_handler, np1_probe, np2_probe\n",
    "\n",
    "data_path = Path('/mnt/e/neuropixels_dohoung/ANM480363_20210527_pfc320_hpc180_g0/ANM480363_20210527_pfc320_hpc180_g0_imec1/ANM480363_20210527_pfc320_hpc180_g0_t1.imec1.ap.bin')\n",
    "dir_path = Path('../results/dohoung_s1/')\n",
    "add_default_handler(level='INFO')\n",
    "run(data_path, dir_path, probe=np1_probe())"
   ]
  },
  {
   "cell_type": "code",
   "execution_count": null,
   "id": "b4600384-4ef6-4a8f-a63a-96b80713de5f",
   "metadata": {},
   "outputs": [],
   "source": []
  }
 ],
 "metadata": {
  "kernelspec": {
   "display_name": "Python 3 (ipykernel)",
   "language": "python",
   "name": "python3"
  },
  "language_info": {
   "codemirror_mode": {
    "name": "ipython",
    "version": 3
   },
   "file_extension": ".py",
   "mimetype": "text/x-python",
   "name": "python",
   "nbconvert_exporter": "python",
   "pygments_lexer": "ipython3",
   "version": "3.9.13"
  }
 },
 "nbformat": 4,
 "nbformat_minor": 5
}
