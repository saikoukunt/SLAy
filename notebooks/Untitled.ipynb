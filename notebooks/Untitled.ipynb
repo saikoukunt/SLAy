{
 "cells": [
  {
   "cell_type": "code",
   "execution_count": 1,
   "id": "27f5e9f2-6341-4448-bba8-c1b9fdf4884d",
   "metadata": {},
   "outputs": [],
   "source": [
    "import torch\n",
    "import torchvision.models as models\n",
    "from torch.profiler import profile, record_function, ProfilerActivity"
   ]
  },
  {
   "cell_type": "code",
   "execution_count": 2,
   "id": "36bb66e2-a6f8-4588-93af-263844e67cd0",
   "metadata": {},
   "outputs": [],
   "source": [
    "model = models.resnet18()\n",
    "inputs = torch.randn(5, 3, 224, 224)"
   ]
  },
  {
   "cell_type": "code",
   "execution_count": 3,
   "id": "8f4542d1-9555-4818-ab9c-e9b285d673ac",
   "metadata": {},
   "outputs": [],
   "source": [
    "with profile(activities=[ProfilerActivity.CPU], record_shapes=True) as prof:\n",
    "    with record_function(\"model_inference\"):\n",
    "        model(inputs)"
   ]
  },
  {
   "cell_type": "code",
   "execution_count": 4,
   "id": "b8125f8c-2eea-42d6-a120-6ca0d14292de",
   "metadata": {},
   "outputs": [
    {
     "name": "stdout",
     "output_type": "stream",
     "text": [
      "---------------------------------  ------------  ------------  ------------  ------------  ------------  ------------  \n",
      "                             Name    Self CPU %      Self CPU   CPU total %     CPU total  CPU time avg    # of Calls  \n",
      "---------------------------------  ------------  ------------  ------------  ------------  ------------  ------------  \n",
      "                  model_inference        11.98%      17.717ms       100.00%     147.891ms     147.891ms             1  \n",
      "                     aten::conv2d         0.09%     137.000us        57.68%      85.300ms       4.265ms            20  \n",
      "                aten::convolution         0.31%     454.000us        57.58%      85.163ms       4.258ms            20  \n",
      "               aten::_convolution         0.18%     261.000us        57.28%      84.709ms       4.235ms            20  \n",
      "         aten::mkldnn_convolution        56.85%      84.075ms        57.10%      84.448ms       4.222ms            20  \n",
      "                 aten::batch_norm         0.33%     486.000us        14.49%      21.426ms       1.071ms            20  \n",
      "     aten::_batch_norm_impl_index         0.30%     450.000us        14.16%      20.940ms       1.047ms            20  \n",
      "          aten::native_batch_norm        13.58%      20.080ms        13.83%      20.453ms       1.023ms            20  \n",
      "                 aten::max_pool2d         0.15%     216.000us        12.75%      18.851ms      18.851ms             1  \n",
      "    aten::max_pool2d_with_indices        12.60%      18.635ms        12.60%      18.635ms      18.635ms             1  \n",
      "---------------------------------  ------------  ------------  ------------  ------------  ------------  ------------  \n",
      "Self CPU time total: 147.891ms\n",
      "\n"
     ]
    }
   ],
   "source": [
    "print(prof.key_averages().table(sort_by=\"cpu_time_total\", row_limit=10))"
   ]
  },
  {
   "cell_type": "code",
   "execution_count": null,
   "id": "0d02d976-997b-4557-8dfd-478019380179",
   "metadata": {},
   "outputs": [],
   "source": []
  }
 ],
 "metadata": {
  "kernelspec": {
   "display_name": "Python 3 (ipykernel)",
   "language": "python",
   "name": "python3"
  },
  "language_info": {
   "codemirror_mode": {
    "name": "ipython",
    "version": 3
   },
   "file_extension": ".py",
   "mimetype": "text/x-python",
   "name": "python",
   "nbconvert_exporter": "python",
   "pygments_lexer": "ipython3",
   "version": "3.10.4"
  }
 },
 "nbformat": 4,
 "nbformat_minor": 5
}
