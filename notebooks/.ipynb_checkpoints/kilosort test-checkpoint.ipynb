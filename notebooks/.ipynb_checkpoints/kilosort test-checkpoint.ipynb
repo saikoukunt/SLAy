{
 "cells": [
  {
   "cell_type": "code",
   "execution_count": 1,
   "id": "53f5a3ad-99c7-457d-9ec9-4fc8f79d36f8",
   "metadata": {},
   "outputs": [
    {
     "ename": "ModuleNotFoundError",
     "evalue": "No module named 'pykilosort'",
     "output_type": "error",
     "traceback": [
      "\u001b[0;31m---------------------------------------------------------------------------\u001b[0m",
      "\u001b[0;31mModuleNotFoundError\u001b[0m                       Traceback (most recent call last)",
      "Input \u001b[0;32mIn [1]\u001b[0m, in \u001b[0;36m<cell line: 2>\u001b[0;34m()\u001b[0m\n\u001b[1;32m      1\u001b[0m \u001b[38;5;28;01mfrom\u001b[39;00m \u001b[38;5;21;01mpathlib\u001b[39;00m \u001b[38;5;28;01mimport\u001b[39;00m Path\n\u001b[0;32m----> 2\u001b[0m \u001b[38;5;28;01mfrom\u001b[39;00m \u001b[38;5;21;01mpykilosort\u001b[39;00m \u001b[38;5;28;01mimport\u001b[39;00m run, add_default_handler, np1_probe, np2_probe\n\u001b[1;32m      4\u001b[0m data_path \u001b[38;5;241m=\u001b[39m Path(\u001b[38;5;124m'\u001b[39m\u001b[38;5;124m/mnt/e/neuropixels_dohoung/ANM480363_20210527_pfc320_hpc180_g0/ANM480363_20210527_pfc320_hpc180_g0_imec1/ANM480363_20210527_pfc320_hpc180_g0_t1.imec1.ap.bin\u001b[39m\u001b[38;5;124m'\u001b[39m)\n\u001b[1;32m      5\u001b[0m dir_path \u001b[38;5;241m=\u001b[39m Path(\u001b[38;5;124m'\u001b[39m\u001b[38;5;124m../results/dohoung_s1/\u001b[39m\u001b[38;5;124m'\u001b[39m)\n",
      "\u001b[0;31mModuleNotFoundError\u001b[0m: No module named 'pykilosort'"
     ]
    }
   ],
   "source": [
    "from pathlib import Path\n",
    "from pykilosort import run, add_default_handler, np1_probe, np2_probe\n",
    "\n",
    "data_path = Path('/mnt/e/neuropixels_dohoung/ANM480363_20210527_pfc320_hpc180_g0/ANM480363_20210527_pfc320_hpc180_g0_imec1/ANM480363_20210527_pfc320_hpc180_g0_t1.imec1.ap.bin')\n",
    "dir_path = Path('../results/dohoung_s1/')\n",
    "add_default_handler(level='INFO')\n",
    "run(data_path, dir_path, probe=np1_probe())"
   ]
  },
  {
   "cell_type": "code",
   "execution_count": null,
   "id": "b4600384-4ef6-4a8f-a63a-96b80713de5f",
   "metadata": {},
   "outputs": [],
   "source": []
  }
 ],
 "metadata": {
  "kernelspec": {
   "display_name": "Python 3 (ipykernel)",
   "language": "python",
   "name": "python3"
  },
  "language_info": {
   "codemirror_mode": {
    "name": "ipython",
    "version": 3
   },
   "file_extension": ".py",
   "mimetype": "text/x-python",
   "name": "python",
   "nbconvert_exporter": "python",
   "pygments_lexer": "ipython3",
   "version": "3.9.2"
  }
 },
 "nbformat": 4,
 "nbformat_minor": 5
}
