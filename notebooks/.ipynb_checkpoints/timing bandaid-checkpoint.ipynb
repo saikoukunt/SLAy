{
 "cells": [
  {
   "cell_type": "code",
   "execution_count": 1,
   "id": "c49c9b0a-c190-4fcd-be54-5b8458ed2400",
   "metadata": {},
   "outputs": [],
   "source": [
    "import numpy as np\n",
    "from collections import deque"
   ]
  },
  {
   "cell_type": "code",
   "execution_count": 2,
   "id": "d425fb12-c964-47f0-96e0-ed3fccf14c4c",
   "metadata": {},
   "outputs": [],
   "source": [
    "fs = 30000\n",
    "\n",
    "times = np.load('../results/s0/spike_times.npy')/fs\n",
    "clusters = np.load('../results/s0/spike_clusters.npy')\n",
    "\n",
    "n_clusters = np.unique(clusters).size\n",
    "n = times.shape[0]"
   ]
  },
  {
   "cell_type": "code",
   "execution_count": 3,
   "id": "09d7f0e3-fe5a-4711-b2b6-8b78fb380c74",
   "metadata": {},
   "outputs": [
    {
     "data": {
      "text/plain": [
       "(118313,)"
      ]
     },
     "execution_count": 3,
     "metadata": {},
     "output_type": "execute_result"
    }
   ],
   "source": [
    "times.shape"
   ]
  },
  {
   "cell_type": "code",
   "execution_count": 4,
   "id": "1bb41a97-478a-4a2b-a561-44ea5767ebcb",
   "metadata": {},
   "outputs": [],
   "source": [
    "tmplt_len = 61/fs\n",
    "window = deque()\n",
    "window_counts = np.zeros(n_clusters)\n",
    "overlap = np.zeros((n_clusters, n_clusters))\n",
    "\n",
    "for i in np.arange(n):\n",
    "    window.append(i)\n",
    "\n",
    "    # Boot spikes outside window\n",
    "    while (times[i] - times[window[0]]) > tmplt_len:\n",
    "        old = window.popleft()\n",
    "        window_counts[clusters[old]] -= 1\n",
    "        \n",
    "    # update overlap row of new spike\n",
    "    overlap[clusters[i], :] += window_counts\n",
    "        \n",
    "    # update overlap rows for pre-existing spikes\n",
    "    overlap[:, clusters[i]] += window_counts.T\n",
    "    \n",
    "    # for j in np.arange(n_clusters):\n",
    "    #     overlap[j, clusters[i]] += window_counts[j]\n",
    "    \n",
    "    # update window counts\n",
    "    window_counts[clusters[i]] += 1    "
   ]
  },
  {
   "cell_type": "code",
   "execution_count": 5,
   "id": "a710ce39-dbdc-45dd-92e3-468ce62e9190",
   "metadata": {},
   "outputs": [],
   "source": [
    "# count number of spikes for each cluster\n",
    "clust_counts = np.zeros(n_clusters)\n",
    "\n",
    "for i in np.arange(n):\n",
    "    clust_counts[clusters[i]] += 1\n",
    "    \n",
    "    \n",
    "overlap_norm = overlap\n",
    "# normalize overlap by spikes in cluster\n",
    "for i in np.arange(n_clusters):\n",
    "    overlap_norm[i, :] /= clust_counts[i]"
   ]
  },
  {
   "cell_type": "code",
   "execution_count": null,
   "id": "6cacd599-3133-4365-9ac2-959f826ac05d",
   "metadata": {},
   "outputs": [],
   "source": []
  }
 ],
 "metadata": {
  "kernelspec": {
   "display_name": "Python 3 (ipykernel)",
   "language": "python",
   "name": "python3"
  },
  "language_info": {
   "codemirror_mode": {
    "name": "ipython",
    "version": 3
   },
   "file_extension": ".py",
   "mimetype": "text/x-python",
   "name": "python",
   "nbconvert_exporter": "python",
   "pygments_lexer": "ipython3",
   "version": "3.10.4"
  }
 },
 "nbformat": 4,
 "nbformat_minor": 5
}
